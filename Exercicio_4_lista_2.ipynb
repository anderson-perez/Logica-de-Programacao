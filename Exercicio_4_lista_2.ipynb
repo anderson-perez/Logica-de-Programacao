{
  "nbformat": 4,
  "nbformat_minor": 0,
  "metadata": {
    "colab": {
      "provenance": [],
      "authorship_tag": "ABX9TyPGrczxq22hVcxrRcoEgzS9",
      "include_colab_link": true
    },
    "kernelspec": {
      "name": "python3",
      "display_name": "Python 3"
    },
    "language_info": {
      "name": "python"
    }
  },
  "cells": [
    {
      "cell_type": "markdown",
      "metadata": {
        "id": "view-in-github",
        "colab_type": "text"
      },
      "source": [
        "<a href=\"https://colab.research.google.com/github/anderson-perez/Logica-de-Programacao/blob/main/Exercicio_4_lista_2.ipynb\" target=\"_parent\"><img src=\"https://colab.research.google.com/assets/colab-badge.svg\" alt=\"Open In Colab\"/></a>"
      ]
    },
    {
      "cell_type": "code",
      "execution_count": 2,
      "metadata": {
        "colab": {
          "base_uri": "https://localhost:8080/"
        },
        "id": "igw9yDvNGt1n",
        "outputId": "6f483dee-8e3c-43e2-dfcd-e6b7521f8c80"
      },
      "outputs": [
        {
          "output_type": "stream",
          "name": "stdout",
          "text": [
            "Qual o seu sexo? f\n",
            "Qual a sua altura? 1.65\n",
            "O seu peso ideal eh: 57.765\n"
          ]
        }
      ],
      "source": [
        "sexo = input(\"Qual o seu sexo? \")\n",
        "altura = float(input(\"Qual a sua altura? \"))\n",
        "\n",
        "if sexo == 'm' or sexo == 'M':\n",
        "  peso_ideal = 72.2 * altura - 58\n",
        "\n",
        "if sexo == 'f' or sexo == 'F':\n",
        "  peso_ideal = 62.1 * altura - 44.7\n",
        "\n",
        "print(f\"O seu peso ideal eh: {peso_ideal}\")\n"
      ]
    },
    {
      "cell_type": "code",
      "source": [
        "altura = float(input(\"Digite a sua altura em metros: \"))\n",
        "sexo = str(input(\"Digite seu sexo em F ou M: \"))\n",
        "\n",
        "if sexo == 'F' or sexo == 'f':\n",
        "  Peso_idealF = (62.1 * altura) - 44.7\n",
        "  print(f\"Seu peso ideal é {Peso_idealF}\")\n",
        "\n",
        "else :\n",
        "  Peso_idealM = (72.7 * altura) - 58\n",
        "  print(f\"Seu peso ideal é {Peso_idealM}\")\n"
      ],
      "metadata": {
        "colab": {
          "base_uri": "https://localhost:8080/"
        },
        "id": "cZMU_X2uJ39M",
        "outputId": "2877677a-23e3-40d0-ee28-08262929d457"
      },
      "execution_count": 5,
      "outputs": [
        {
          "output_type": "stream",
          "name": "stdout",
          "text": [
            "Digite a sua altura em metros 1.70\n",
            "Digite seu sexo em F ou M f\n",
            "Seu peso ideal é 60.86999999999999\n"
          ]
        }
      ]
    }
  ]
}