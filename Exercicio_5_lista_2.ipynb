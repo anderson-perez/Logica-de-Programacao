{
  "nbformat": 4,
  "nbformat_minor": 0,
  "metadata": {
    "colab": {
      "provenance": [],
      "authorship_tag": "ABX9TyO2nLJeg720yTY6xoXuFHc3",
      "include_colab_link": true
    },
    "kernelspec": {
      "name": "python3",
      "display_name": "Python 3"
    },
    "language_info": {
      "name": "python"
    }
  },
  "cells": [
    {
      "cell_type": "markdown",
      "metadata": {
        "id": "view-in-github",
        "colab_type": "text"
      },
      "source": [
        "<a href=\"https://colab.research.google.com/github/anderson-perez/Logica-de-Programacao/blob/main/Exercicio_5_lista_2.ipynb\" target=\"_parent\"><img src=\"https://colab.research.google.com/assets/colab-badge.svg\" alt=\"Open In Colab\"/></a>"
      ]
    },
    {
      "cell_type": "code",
      "source": [
        "ano = int(input(\"Digite seu ano de nascimento: \"))\n",
        "idade = 2025 - ano\n",
        "print (f\"{idade} anos\")\n",
        "\n",
        "if idade < 16:\n",
        "  print(f\"Não pode votar\")\n",
        "\n",
        "if idade >= 16:\n",
        "  print(f\"Pode votar\")\n",
        "\n",
        "if idade < 18:\n",
        "  print(f\"Não pode tirar a habilitação\")\n",
        "\n",
        "if idade >= 18:\n",
        "  print(f\"Pode tirar a habilitação\")"
      ],
      "metadata": {
        "colab": {
          "base_uri": "https://localhost:8080/"
        },
        "id": "hTYt8xsJMXMU",
        "outputId": "6642bdad-b36f-429f-a28c-b7138f93ae1c"
      },
      "execution_count": 5,
      "outputs": [
        {
          "output_type": "stream",
          "name": "stdout",
          "text": [
            "Digite seu ano de nascimento: 2009\n",
            "16 anos\n",
            "Pode votar\n",
            "Não pode tirar a habilitação\n"
          ]
        }
      ]
    }
  ]
}