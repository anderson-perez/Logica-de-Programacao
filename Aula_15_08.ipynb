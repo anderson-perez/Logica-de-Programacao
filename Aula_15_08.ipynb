{
  "nbformat": 4,
  "nbformat_minor": 0,
  "metadata": {
    "colab": {
      "provenance": [],
      "authorship_tag": "ABX9TyM3AvKVJRWJ+xrKMLNDkMR3",
      "include_colab_link": true
    },
    "kernelspec": {
      "name": "python3",
      "display_name": "Python 3"
    },
    "language_info": {
      "name": "python"
    }
  },
  "cells": [
    {
      "cell_type": "markdown",
      "metadata": {
        "id": "view-in-github",
        "colab_type": "text"
      },
      "source": [
        "<a href=\"https://colab.research.google.com/github/anderson-perez/Logica-de-Programacao/blob/main/Aula_15_08.ipynb\" target=\"_parent\"><img src=\"https://colab.research.google.com/assets/colab-badge.svg\" alt=\"Open In Colab\"/></a>"
      ]
    },
    {
      "cell_type": "code",
      "execution_count": 5,
      "metadata": {
        "colab": {
          "base_uri": "https://localhost:8080/"
        },
        "id": "tkkqurT5_tdO",
        "outputId": "1b4c1e4a-6e89-4f6d-ee3f-caa43cbe3970"
      },
      "outputs": [
        {
          "output_type": "stream",
          "name": "stdout",
          "text": [
            "a\n"
          ]
        }
      ],
      "source": [
        "a = 'a'\n",
        "print(a)"
      ]
    },
    {
      "cell_type": "code",
      "source": [
        "type(a)"
      ],
      "metadata": {
        "colab": {
          "base_uri": "https://localhost:8080/"
        },
        "id": "hSxwt-7S_yA_",
        "outputId": "ff7e6029-aa97-46e4-e1bb-2a8363e58d49"
      },
      "execution_count": 6,
      "outputs": [
        {
          "output_type": "execute_result",
          "data": {
            "text/plain": [
              "str"
            ]
          },
          "metadata": {},
          "execution_count": 6
        }
      ]
    },
    {
      "cell_type": "markdown",
      "source": [
        "* Operadores relacionais:\n",
        "\n",
        "== Igual\n",
        "\n",
        "!= Diferente\n",
        "\n",
        "\\>  Maior que\n",
        "\n",
        "<  Menor que\n",
        "\n",
        "\\>= Maior ou igual a\n",
        "\n",
        "<= Menor ou igual a\n"
      ],
      "metadata": {
        "id": "X1bqVnkPAFRu"
      }
    },
    {
      "cell_type": "code",
      "source": [
        "preco = 15"
      ],
      "metadata": {
        "id": "OqwCmR_a_y6a"
      },
      "execution_count": 7,
      "outputs": []
    },
    {
      "cell_type": "code",
      "source": [
        "print(preco)"
      ],
      "metadata": {
        "colab": {
          "base_uri": "https://localhost:8080/"
        },
        "id": "ZGzH4eFcD_Ei",
        "outputId": "913e281f-bfa7-4ece-8837-2b0ffa96f4b3"
      },
      "execution_count": 18,
      "outputs": [
        {
          "output_type": "stream",
          "name": "stdout",
          "text": [
            "45\n"
          ]
        }
      ]
    },
    {
      "cell_type": "code",
      "source": [
        "preco != 10"
      ],
      "metadata": {
        "colab": {
          "base_uri": "https://localhost:8080/"
        },
        "id": "uTurF4YjB0MH",
        "outputId": "570af841-10da-49bb-903a-ed44609f0f62"
      },
      "execution_count": 14,
      "outputs": [
        {
          "output_type": "execute_result",
          "data": {
            "text/plain": [
              "True"
            ]
          },
          "metadata": {},
          "execution_count": 14
        }
      ]
    },
    {
      "cell_type": "markdown",
      "source": [
        "* Operadores aritméticos:\n",
        "\n",
        "\\+ Adição\n",
        "\n",
        "\\- Subração\n",
        "\n",
        "\\* Multiplicação\n",
        "\n",
        "/ Divisão"
      ],
      "metadata": {
        "id": "JaSg38C1Cv_1"
      }
    },
    {
      "cell_type": "code",
      "source": [
        "preco = preco + 10\n",
        "print(preco)"
      ],
      "metadata": {
        "colab": {
          "base_uri": "https://localhost:8080/"
        },
        "id": "pYO5vdXpB7Lu",
        "outputId": "11750acf-9d29-41e7-bc09-d345e2ca01c0"
      },
      "execution_count": 17,
      "outputs": [
        {
          "output_type": "stream",
          "name": "stdout",
          "text": [
            "45\n"
          ]
        }
      ]
    },
    {
      "cell_type": "code",
      "source": [
        "preco = preco - 20\n",
        "print(preco)"
      ],
      "metadata": {
        "colab": {
          "base_uri": "https://localhost:8080/"
        },
        "id": "978c8WjPDbv6",
        "outputId": "bd0939c4-11f0-4cd3-9d3e-cd36c36c9ef1"
      },
      "execution_count": 21,
      "outputs": [
        {
          "output_type": "stream",
          "name": "stdout",
          "text": [
            "-15\n"
          ]
        }
      ]
    },
    {
      "cell_type": "markdown",
      "source": [
        "* Operadores Lógicos:\n",
        "\n",
        "And e lógico\n",
        "\n",
        "Or  ou lógico\n",
        "\n",
        "Not não (negação)"
      ],
      "metadata": {
        "id": "oPCuwzl_EczI"
      }
    },
    {
      "cell_type": "code",
      "source": [
        "idade = 5"
      ],
      "metadata": {
        "id": "UE9fhd2wEmAw"
      },
      "execution_count": 22,
      "outputs": []
    },
    {
      "cell_type": "code",
      "source": [
        "idade > 5 or idade < 10"
      ],
      "metadata": {
        "colab": {
          "base_uri": "https://localhost:8080/"
        },
        "id": "MDCCAnX-GXu5",
        "outputId": "53950f3b-012b-40db-9c1e-afd97e635d89"
      },
      "execution_count": 23,
      "outputs": [
        {
          "output_type": "execute_result",
          "data": {
            "text/plain": [
              "True"
            ]
          },
          "metadata": {},
          "execution_count": 23
        }
      ]
    },
    {
      "cell_type": "code",
      "source": [
        "idade == 5 and idade < 10"
      ],
      "metadata": {
        "colab": {
          "base_uri": "https://localhost:8080/"
        },
        "id": "DlzYZjuXGxUL",
        "outputId": "0c40a610-2217-4760-b924-501ba49f403f"
      },
      "execution_count": 24,
      "outputs": [
        {
          "output_type": "execute_result",
          "data": {
            "text/plain": [
              "True"
            ]
          },
          "metadata": {},
          "execution_count": 24
        }
      ]
    },
    {
      "cell_type": "code",
      "source": [
        "idade == 5 and idade > 10"
      ],
      "metadata": {
        "colab": {
          "base_uri": "https://localhost:8080/"
        },
        "id": "17jCVDOFHOtI",
        "outputId": "33fa6f93-032c-4a2b-8b2e-c3146eee8549"
      },
      "execution_count": 25,
      "outputs": [
        {
          "output_type": "execute_result",
          "data": {
            "text/plain": [
              "False"
            ]
          },
          "metadata": {},
          "execution_count": 25
        }
      ]
    },
    {
      "cell_type": "code",
      "source": [
        "not (idade == 5 and idade > 10)"
      ],
      "metadata": {
        "colab": {
          "base_uri": "https://localhost:8080/"
        },
        "id": "Mq8s38LlHw9-",
        "outputId": "b90be717-395e-4bc6-8d4f-8e70defeda28"
      },
      "execution_count": 26,
      "outputs": [
        {
          "output_type": "execute_result",
          "data": {
            "text/plain": [
              "True"
            ]
          },
          "metadata": {},
          "execution_count": 26
        }
      ]
    },
    {
      "cell_type": "code",
      "source": [
        "# Entrada de dados\n",
        "entrada = input()\n",
        "print(entrada)"
      ],
      "metadata": {
        "colab": {
          "base_uri": "https://localhost:8080/"
        },
        "id": "oOE99066IaGV",
        "outputId": "55da721b-768a-4ac8-b7c2-32828ef3c4e7"
      },
      "execution_count": 29,
      "outputs": [
        {
          "output_type": "stream",
          "name": "stdout",
          "text": [
            "10\n",
            "10\n"
          ]
        }
      ]
    },
    {
      "cell_type": "code",
      "source": [
        "x = float(input())\n",
        "y = float(input())\n",
        "print(x + y)"
      ],
      "metadata": {
        "colab": {
          "base_uri": "https://localhost:8080/"
        },
        "id": "Oc2hwTo9JKFC",
        "outputId": "2871857b-e0bd-4122-93c7-e109c400601e"
      },
      "execution_count": 32,
      "outputs": [
        {
          "output_type": "stream",
          "name": "stdout",
          "text": [
            "10.8\n",
            "5.35\n",
            "16.15\n"
          ]
        }
      ]
    },
    {
      "cell_type": "markdown",
      "source": [
        "Escreva um programa que leia tres variaveis e mostre quel é a maior."
      ],
      "metadata": {
        "id": "LK6rkLdJLYNS"
      }
    },
    {
      "cell_type": "code",
      "source": [
        "a = int(input())\n",
        "b = int(input())\n",
        "c = int(input())"
      ],
      "metadata": {
        "colab": {
          "base_uri": "https://localhost:8080/"
        },
        "id": "8v05qjP0LEVQ",
        "outputId": "39ab01af-14bf-40cd-d5e7-653fe0f6bfea"
      },
      "execution_count": 34,
      "outputs": [
        {
          "name": "stdout",
          "output_type": "stream",
          "text": [
            "3\n",
            "4\n",
            "5\n"
          ]
        }
      ]
    },
    {
      "cell_type": "code",
      "source": [
        "a_maior_b = a > b"
      ],
      "metadata": {
        "id": "AbbtsrwXMPEd"
      },
      "execution_count": 39,
      "outputs": []
    },
    {
      "cell_type": "code",
      "source": [
        "print(f\"A eh maior: {a_maior_b}\")"
      ],
      "metadata": {
        "colab": {
          "base_uri": "https://localhost:8080/"
        },
        "id": "251sJJBqNKxy",
        "outputId": "e5447958-1b09-411a-fbbe-c33fd967a4d8"
      },
      "execution_count": 40,
      "outputs": [
        {
          "output_type": "stream",
          "name": "stdout",
          "text": [
            "A eh maior: False\n"
          ]
        }
      ]
    }
  ]
}