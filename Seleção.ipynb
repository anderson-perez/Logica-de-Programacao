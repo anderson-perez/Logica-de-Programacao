{
  "nbformat": 4,
  "nbformat_minor": 0,
  "metadata": {
    "colab": {
      "provenance": [],
      "authorship_tag": "ABX9TyMF0V8DJuxyNUMtfGND+sWb",
      "include_colab_link": true
    },
    "kernelspec": {
      "name": "python3",
      "display_name": "Python 3"
    },
    "language_info": {
      "name": "python"
    }
  },
  "cells": [
    {
      "cell_type": "markdown",
      "metadata": {
        "id": "view-in-github",
        "colab_type": "text"
      },
      "source": [
        "<a href=\"https://colab.research.google.com/github/anderson-perez/Logica-de-Programacao/blob/main/Sele%C3%A7%C3%A3o.ipynb\" target=\"_parent\"><img src=\"https://colab.research.google.com/assets/colab-badge.svg\" alt=\"Open In Colab\"/></a>"
      ]
    },
    {
      "cell_type": "code",
      "execution_count": 1,
      "metadata": {
        "colab": {
          "base_uri": "https://localhost:8080/"
        },
        "id": "01MxjNkH9RJE",
        "outputId": "9d9f087f-bd8f-476f-fe0c-2458266ff36b"
      },
      "outputs": [
        {
          "output_type": "stream",
          "name": "stdout",
          "text": [
            "Primeiro instrução\n",
            "Segunda instrução\n",
            "Terceira instrução\n"
          ]
        }
      ],
      "source": [
        "print(\"Primeiro instrução\")\n",
        "print(\"Segunda instrução\")\n",
        "print(\"Terceira instrução\")"
      ]
    },
    {
      "cell_type": "code",
      "source": [
        "# Comandos de seleção\n",
        "\n",
        "'''\n",
        "Tipos de seleção:\n",
        "\n",
        "1) seleção simples\n",
        "2) seleção composta\n",
        "3) seleção aninhada (encadeada)\n",
        "4) seleção de múltipla escolha (seleção composta)\n",
        "\n",
        "'''"
      ],
      "metadata": {
        "id": "54zUhttN9lYD"
      },
      "execution_count": null,
      "outputs": []
    },
    {
      "cell_type": "code",
      "source": [
        "x = int(input(\"Digite um valor inteiro: \"))\n",
        "y = int(input(\"Digite um segundo valor inteiro: \"))\n",
        "\n",
        "# Seleção simples\n",
        "if x > y:\n",
        "  print(f\"{x} eh maior que {y}\")\n",
        "else:\n",
        "  print(f\"{x} nao eh maior que {y}\")\n"
      ],
      "metadata": {
        "colab": {
          "base_uri": "https://localhost:8080/"
        },
        "id": "dsKdXPYI-zM2",
        "outputId": "86f5f250-85dd-4819-e9da-fd423f6f5df4"
      },
      "execution_count": 6,
      "outputs": [
        {
          "output_type": "stream",
          "name": "stdout",
          "text": [
            "Digite um valor inteiro: 3\n",
            "Digite um segundo valor inteiro: 4\n",
            "3 nao eh maior que 4\n"
          ]
        }
      ]
    }
  ]
}