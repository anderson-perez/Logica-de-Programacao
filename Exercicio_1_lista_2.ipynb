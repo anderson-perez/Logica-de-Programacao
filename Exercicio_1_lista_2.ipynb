{
  "nbformat": 4,
  "nbformat_minor": 0,
  "metadata": {
    "colab": {
      "provenance": [],
      "authorship_tag": "ABX9TyOna20/BmAfnJ1ZxSkmkg1m",
      "include_colab_link": true
    },
    "kernelspec": {
      "name": "python3",
      "display_name": "Python 3"
    },
    "language_info": {
      "name": "python"
    }
  },
  "cells": [
    {
      "cell_type": "markdown",
      "metadata": {
        "id": "view-in-github",
        "colab_type": "text"
      },
      "source": [
        "<a href=\"https://colab.research.google.com/github/anderson-perez/Logica-de-Programacao/blob/main/Exercicio_1_lista_2.ipynb\" target=\"_parent\"><img src=\"https://colab.research.google.com/assets/colab-badge.svg\" alt=\"Open In Colab\"/></a>"
      ]
    },
    {
      "cell_type": "code",
      "execution_count": 2,
      "metadata": {
        "colab": {
          "base_uri": "https://localhost:8080/"
        },
        "id": "UOagwX12Cj9Y",
        "outputId": "7f6fa834-9ff1-4e1f-dcbc-30ff882bd8c8"
      },
      "outputs": [
        {
          "output_type": "stream",
          "name": "stdout",
          "text": [
            "Digite uma idade: 21\n",
            "Adulto\n"
          ]
        }
      ],
      "source": [
        "idade = int(input(\"Digite uma idade: \"))\n",
        "\n",
        "if idade >= 5 and idade <= 7:\n",
        "  print(\"Infantil A\")\n",
        "\n",
        "if idade >= 8 and idade <= 10:\n",
        "  print(\"Infantil B\")\n",
        "\n",
        "if idade >= 11 and idade <= 13:\n",
        "  print(\"Juvenil A\")\n",
        "\n",
        "if idade >= 14 and idade <= 17:\n",
        "  print(\"Juvenil B\")\n",
        "\n",
        "if idade >= 18 :\n",
        "  print(\"Adulto\")"
      ]
    }
  ]
}