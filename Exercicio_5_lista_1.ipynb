{
  "nbformat": 4,
  "nbformat_minor": 0,
  "metadata": {
    "colab": {
      "provenance": [],
      "authorship_tag": "ABX9TyNXR/a4zx9RMp/U4Aj8lNsw",
      "include_colab_link": true
    },
    "kernelspec": {
      "name": "python3",
      "display_name": "Python 3"
    },
    "language_info": {
      "name": "python"
    }
  },
  "cells": [
    {
      "cell_type": "markdown",
      "metadata": {
        "id": "view-in-github",
        "colab_type": "text"
      },
      "source": [
        "<a href=\"https://colab.research.google.com/github/anderson-perez/Logica-de-Programacao/blob/main/Exercicio_5_lista_1.ipynb\" target=\"_parent\"><img src=\"https://colab.research.google.com/assets/colab-badge.svg\" alt=\"Open In Colab\"/></a>"
      ]
    },
    {
      "cell_type": "code",
      "execution_count": 2,
      "metadata": {
        "colab": {
          "base_uri": "https://localhost:8080/"
        },
        "id": "r3EsspvxzaE3",
        "outputId": "6e87ab14-847d-49f1-bf9d-30acfa0dc143"
      },
      "outputs": [
        {
          "output_type": "stream",
          "name": "stdout",
          "text": [
            "Digite um valor para a base 2\n",
            "Digite um valor para o expoente 2\n",
            "2 elevada a 2 eh: 4\n"
          ]
        }
      ],
      "source": [
        "base = int(input(\"Digite um valor para a base \"))\n",
        "expoente = int(input(\"Digite um valor para o expoente \"))\n",
        "\n",
        "resultado = base ** expoente\n",
        "\n",
        "print(f\"{base} elevada a {expoente} eh: {resultado}\")"
      ]
    },
    {
      "cell_type": "code",
      "source": [],
      "metadata": {
        "id": "8a2bChgG0c9R"
      },
      "execution_count": null,
      "outputs": []
    }
  ]
}