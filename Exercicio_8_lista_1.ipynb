{
  "nbformat": 4,
  "nbformat_minor": 0,
  "metadata": {
    "colab": {
      "provenance": [],
      "authorship_tag": "ABX9TyMDr/hh/zSTyCKL6rVnItYk",
      "include_colab_link": true
    },
    "kernelspec": {
      "name": "python3",
      "display_name": "Python 3"
    },
    "language_info": {
      "name": "python"
    }
  },
  "cells": [
    {
      "cell_type": "markdown",
      "metadata": {
        "id": "view-in-github",
        "colab_type": "text"
      },
      "source": [
        "<a href=\"https://colab.research.google.com/github/anderson-perez/Logica-de-Programacao/blob/main/Exercicio_8_lista_1.ipynb\" target=\"_parent\"><img src=\"https://colab.research.google.com/assets/colab-badge.svg\" alt=\"Open In Colab\"/></a>"
      ]
    },
    {
      "cell_type": "code",
      "execution_count": 2,
      "metadata": {
        "colab": {
          "base_uri": "https://localhost:8080/"
        },
        "id": "1Mbi5cEduosL",
        "outputId": "e33ae152-7b88-4cc3-b9cb-92af18f3b324"
      },
      "outputs": [
        {
          "output_type": "stream",
          "name": "stdout",
          "text": [
            "Digita o preço do produto 100\n",
            "Digita o percentual 10\n",
            "O lucro será 10.0\n"
          ]
        }
      ],
      "source": [
        "valor_venda=float(input(\"Digita o preço do produto \"))\n",
        "percentual=int(input(\"Digita o percentual \"))\n",
        "\n",
        "lucro=(valor_venda*percentual)/100\n",
        "print(f\"O lucro será {lucro}\")"
      ]
    },
    {
      "cell_type": "code",
      "source": [
        "teste = True\n",
        "type(teste)"
      ],
      "metadata": {
        "colab": {
          "base_uri": "https://localhost:8080/"
        },
        "id": "o7hXA5J3xSI0",
        "outputId": "c789f8d8-0168-433c-f1dd-cd2414bbabe7"
      },
      "execution_count": 7,
      "outputs": [
        {
          "output_type": "execute_result",
          "data": {
            "text/plain": [
              "bool"
            ]
          },
          "metadata": {},
          "execution_count": 7
        }
      ]
    },
    {
      "cell_type": "code",
      "source": [],
      "metadata": {
        "id": "m8qSixAuyXR0"
      },
      "execution_count": null,
      "outputs": []
    }
  ]
}