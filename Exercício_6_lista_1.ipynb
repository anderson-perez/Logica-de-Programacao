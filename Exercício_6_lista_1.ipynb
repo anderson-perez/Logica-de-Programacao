{
  "nbformat": 4,
  "nbformat_minor": 0,
  "metadata": {
    "colab": {
      "provenance": [],
      "authorship_tag": "ABX9TyPB1Npf6mmecIICgBYf+eku",
      "include_colab_link": true
    },
    "kernelspec": {
      "name": "python3",
      "display_name": "Python 3"
    },
    "language_info": {
      "name": "python"
    }
  },
  "cells": [
    {
      "cell_type": "markdown",
      "metadata": {
        "id": "view-in-github",
        "colab_type": "text"
      },
      "source": [
        "<a href=\"https://colab.research.google.com/github/anderson-perez/Logica-de-Programacao/blob/main/Exerc%C3%ADcio_6_lista_1.ipynb\" target=\"_parent\"><img src=\"https://colab.research.google.com/assets/colab-badge.svg\" alt=\"Open In Colab\"/></a>"
      ]
    },
    {
      "cell_type": "code",
      "execution_count": 13,
      "metadata": {
        "colab": {
          "base_uri": "https://localhost:8080/"
        },
        "id": "lLufKaVu2y00",
        "outputId": "9b1a7e11-40e2-4c82-8620-a695107176ab"
      },
      "outputs": [
        {
          "output_type": "stream",
          "name": "stdout",
          "text": [
            "Digite o primeiro valor lógico 0\n",
            "Digite o segundo valor lógico 1\n",
            "0 and 1 eh: 0\n"
          ]
        }
      ],
      "source": [
        "x1 = int(input(\"Digite o primeiro valor lógico \"))\n",
        "x2 = int(input(\"Digite o segundo valor lógico \"))\n",
        "\n",
        "y = x1 and x2\n",
        "\n",
        "print(f\"{x1} and {x2} eh: {y}\")"
      ]
    }
  ]
}