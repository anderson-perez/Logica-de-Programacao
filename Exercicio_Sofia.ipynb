{
  "nbformat": 4,
  "nbformat_minor": 0,
  "metadata": {
    "colab": {
      "provenance": [],
      "authorship_tag": "ABX9TyO+H9B2XBkbCbhPKQc3M7lt",
      "include_colab_link": true
    },
    "kernelspec": {
      "name": "python3",
      "display_name": "Python 3"
    },
    "language_info": {
      "name": "python"
    }
  },
  "cells": [
    {
      "cell_type": "markdown",
      "metadata": {
        "id": "view-in-github",
        "colab_type": "text"
      },
      "source": [
        "<a href=\"https://colab.research.google.com/github/anderson-perez/Logica-de-Programacao/blob/main/Exercicio_Sofia.ipynb\" target=\"_parent\"><img src=\"https://colab.research.google.com/assets/colab-badge.svg\" alt=\"Open In Colab\"/></a>"
      ]
    },
    {
      "cell_type": "code",
      "execution_count": 1,
      "metadata": {
        "colab": {
          "base_uri": "https://localhost:8080/"
        },
        "id": "uu6kXBjCjDsQ",
        "outputId": "e3f77126-2b0c-4d91-f975-154c72641ccd"
      },
      "outputs": [
        {
          "output_type": "stream",
          "name": "stdout",
          "text": [
            "7\n",
            "9\n",
            "8\n",
            "A é maior: False\n",
            "B é maior: True\n",
            "C é maior: False\n"
          ]
        }
      ],
      "source": [
        "a  = int(input())\n",
        "b = int(input())\n",
        "c = int(input())\n",
        "\n",
        "maior_a = a > b and a > c\n",
        "print(f\"A é maior: {maior_a}\")\n",
        "\n",
        "maior_b = b > a and b > c\n",
        "print(f\"B é maior: {maior_b}\")\n",
        "\n",
        "maior_c = c > a and c > b\n",
        "print(f\"C é maior: {maior_c}\")"
      ]
    }
  ]
}